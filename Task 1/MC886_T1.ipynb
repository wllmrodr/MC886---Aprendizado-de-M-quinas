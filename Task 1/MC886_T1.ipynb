{
  "cells": [
    {
      "cell_type": "markdown",
      "id": "cryiO8oCmrHD",
      "metadata": {
        "id": "cryiO8oCmrHD"
      },
      "source": [
        "# Group information\n",
        "\n",
        "Names:\n",
        "\n",
        "\n",
        "RAs:"
      ]
    },
    {
      "cell_type": "markdown",
      "id": "d77ac2a4-a962-4d16-bdb4-87bd0bd1af3d",
      "metadata": {
        "id": "d77ac2a4-a962-4d16-bdb4-87bd0bd1af3d",
        "tags": []
      },
      "source": [
        "# **Machine Learning MC886/MO444 - Task \\#1**: Regression and Classification\n"
      ]
    },
    {
      "cell_type": "markdown",
      "id": "613abdfb-dfec-4cef-aedb-641c542b40de",
      "metadata": {
        "id": "613abdfb-dfec-4cef-aedb-641c542b40de",
        "tags": []
      },
      "source": [
        "### Objective:\n",
        "\n",
        "To explore **Linear Regression** and **K-Nearest Neighbors** alternatives and come up with the best possible model for the problems. In this work, we will train three models, one for regression, other for binary classification, and the last one for multiclass classification."
      ]
    },
    {
      "cell_type": "markdown",
      "id": "ea3fba5a-7d58-49c7-a007-60a6a9e98d1d",
      "metadata": {
        "id": "ea3fba5a-7d58-49c7-a007-60a6a9e98d1d",
        "tags": []
      },
      "source": [
        "## **Linear Regression**\n",
        "\n",
        "In this section you must load and explore the dataset, and build a linear regressor by hand. No machine learning libraries are allowed. After building your own regressor, you must compare it with the sklearn `SGDRegressor`.\n"
      ]
    },
    {
      "cell_type": "markdown",
      "id": "872cd8ac-0084-46bb-aad1-053fcb8f3d7a",
      "metadata": {
        "id": "872cd8ac-0084-46bb-aad1-053fcb8f3d7a",
        "tags": []
      },
      "source": [
        "#### **Dataset: Spotify Song Attributes**\n",
        "\n",
        "The Spotify Song Attributes Dataset is a comprehensive collection of music tracks, encompassing various genres and artist names. This dataset provides valuable insights into the world of music, allowing enthusiasts, researchers, and data scientists to delve into the characteristics and nuances of each track.\n",
        "\n",
        "The dataset can be found here: https://www.kaggle.com/datasets/byomokeshsenapati/spotify-song-attributes\n",
        "\n",
        "\n",
        "Some features and the corresponding descriptions:\n",
        "\n",
        "| Variable Name | Data Type | Description | Example Value | Range/Possible Values |\n",
        "|---|---|---|---|---|\n",
        "| `track_name` | String | Name of the song | `'Blinding Lights'` | - |\n",
        "| `track_artist` | String | Name of the artist(s) | `'The Weeknd'` | - |\n",
        "| `msPlayed` | Integer | Miniseconds Played | `191772` | - |\n",
        "| `danceability` | Float | How suitable a track is for dancing (0.0 - 1.0) | `0.70` | 0.0 - 1.0 |\n",
        "| `energy` | Float | Perceptual measure of intensity and activity (0.0 - 1.0) | `0.73` | 0.0 - 1.0 |\n",
        "| `key` | Integer | Estimated overall key of the track (0 = C, 1 = C♯/D♭, ... , 11 = B) | `1` | 0 - 11 |\n",
        "| `loudness` | Float | Overall loudness of the track in decibels (dB) | `-5.934` | Typically -60 to 0 dB |\n",
        "| `mode` | Integer | Modality of the track (0 = Minor, 1 = Major) | `1` | 0 or 1 |\n",
        "| `speechiness` | Float | Presence of spoken words in the track (0.0 - 1.0) | `0.0572` | 0.0 - 1.0 |\n",
        "| `acousticness` | Float | Confidence measure of whether the track is acoustic (0.0 - 1.0) | `0.00146` | 0.0 - 1.0 |\n",
        "| `instrumentalness` | Float | Predicts whether a track contains no vocals (0.0 - 1.0) | `0.000095` | 0.0 - 1.0 |\n",
        "| `liveness` | Float | Presence of an audience in the recording (0.0 - 1.0) | `0.0897` | 0.0 - 1.0 |\n",
        "| `valence` | Float | Musical positiveness conveyed by a track (0.0 - 1.0) | `0.644` | 0.0 - 1.0 |\n",
        "| `tempo` | Float | Overall estimated tempo of a track in beats per minute (BPM) | `171.005` | Typically 50 - 200 BPM |\n",
        "| `duration_ms` | Integer | Duration of the track in milliseconds | `191948` | - |\n",
        "| `time_signature` | Integer | Estimated overall time signature of a track | `4` | Typically 3, 4, or 5 |\n",
        "| `genre` | String | Genre of the track (if available) | `'Pop'` | Varies depending on dataset |\n"
      ]
    },
    {
      "cell_type": "code",
      "execution_count": null,
      "id": "01a8e9c0-a382-4736-ae05-3edc8f998bda",
      "metadata": {
        "id": "01a8e9c0-a382-4736-ae05-3edc8f998bda"
      },
      "outputs": [],
      "source": [
        "# link with google drive\n",
        "from google.colab import drive\n",
        "import pandas as pd\n",
        "drive.mount('/content/gdrive', force_remount=True)\n",
        "\n",
        "# load dataset from google drive\n",
        "path = # Change this to be the correct path if you added the dataset in a different location\n",
        "df = pd.read_csv(path)"
      ]
    },
    {
      "cell_type": "markdown",
      "id": "dc3f6001-2c2a-4830-8a68-547f76b7b226",
      "metadata": {
        "id": "dc3f6001-2c2a-4830-8a68-547f76b7b226",
        "tags": []
      },
      "source": [
        "### **Data analysis and preprocessing** (1.5 point)\n",
        "\n",
        "In this section, you should explore the dataset. Remember to avoid using data that you should not have in training.\n",
        "\n",
        "You can plot graphs with features that you think are important to visualize the relation with the target(`msPlayed`). You can also use boxplot graphs to understand feature distributions. There are no minimal/maximum requirements in what graphs you should use, explore just what you think it can help in understanding the dataset.\n",
        "\n",
        "Check for the dependencies of the features and the target to understand which has bigger impact in it (more details on the `mutual_information` section below!).\n",
        "\n",
        "The dataset has categorical features that cannot be used in the models. Fix this (Pandas has a built-in function for that!).\n",
        "\n",
        "Remember that machine learning models are highly affected by the scale of the input features.\n"
      ]
    },
    {
      "cell_type": "code",
      "execution_count": null,
      "id": "0e49e5d7-0492-40af-b172-b6dca4a68d07",
      "metadata": {
        "id": "0e49e5d7-0492-40af-b172-b6dca4a68d07",
        "tags": []
      },
      "outputs": [],
      "source": [
        "## Visualize the data"
      ]
    },
    {
      "cell_type": "markdown",
      "id": "c82b78ea-15c3-442b-a211-15b9d012019a",
      "metadata": {
        "id": "c82b78ea-15c3-442b-a211-15b9d012019a"
      },
      "source": [
        "**Mutual information**\n",
        "\n",
        "The mutual information measure is a way to estimate the mutual dependency of two different variables. Therefore, it might be used as an alternative to t- or F-statistic to assess association between a predictor variable $X_i$ and the response variable $Y$.\n",
        "\n",
        "In that way, we can try to select features in an early stage of the machine learning pipeline, by removing features with low mutual information with the target.\n",
        "\n",
        "To do this task, use the `mutual_info_regression` function from the Sklearn library. You should pay attention to the *discrete_features* parameter, that should be correctly constructed (all continuous features should be `False` in the array, while others are True). <br/>\n",
        "The features that are not numbers also need to be converter in order to `mutual_info_regression` to work. To do this you can use Sklearn's [`OrdinalEncoder`](https://scikit-learn.org/stable/modules/generated/sklearn.preprocessing.OrdinalEncoder.html#sklearn.preprocessing.OrdinalEncoder). This way of encoding is not always appropriate for learning experiments, as ordinal encoding represents a specific order between the categorical values. For the mutual information this is not a problem, but you should not use this encoding for the rest of experiments.\n",
        "\n",
        "Note: *It is important to notice that this preprocess step has to be done carefully, and is not mandatory for all problems/datasets. The mutual information measure does not take into account the interaction between different features. The basic Linear Regressor also does not use this, so this will most likelly enhance (or at least not worsen) the performance of the model. When using more complex models such as Neural Networks (that we will study in the near future), removing the features that have low direct mutual dependency with the target may worsen our model, as the complex model can find those hidden interactions.*\n"
      ]
    },
    {
      "cell_type": "code",
      "execution_count": null,
      "id": "8c049a23-92a7-4a2f-8012-4bc1cb228072",
      "metadata": {
        "id": "8c049a23-92a7-4a2f-8012-4bc1cb228072",
        "tags": []
      },
      "outputs": [],
      "source": [
        "## check Mutal information\n",
        "from sklearn.feature_selection import mutual_info_regression\n"
      ]
    },
    {
      "cell_type": "code",
      "execution_count": null,
      "id": "58d2ca3b-3af5-445f-8f61-95269dce9a33",
      "metadata": {
        "id": "58d2ca3b-3af5-445f-8f61-95269dce9a33"
      },
      "outputs": [],
      "source": [
        "## Visualize the mutual information of each variable (Just run!)\n",
        "## mt_info is the output of Sklearn function\n",
        "mt_info_df = pd.Series(mt_info)\n",
        "mt_info_df.index = X.columns\n",
        "mt_info_df.plot.bar(figsize = (16,6));\n",
        "plt.ylabel('Mutual Information (MI)')\n",
        "plt.title('Features - Vertical')\n",
        "plt.grid(linewidth=0.25)\n",
        "plt.show()"
      ]
    },
    {
      "cell_type": "code",
      "execution_count": null,
      "id": "b76d1b69-e59e-4fd3-87d2-5996935b5110",
      "metadata": {
        "id": "b76d1b69-e59e-4fd3-87d2-5996935b5110",
        "tags": []
      },
      "outputs": [],
      "source": [
        "## Adapt the categorical features"
      ]
    },
    {
      "cell_type": "markdown",
      "id": "f1e31956-b39f-4378-9a7a-b980dd228b21",
      "metadata": {
        "id": "f1e31956-b39f-4378-9a7a-b980dd228b21",
        "jp-MarkdownHeadingCollapsed": true,
        "tags": []
      },
      "source": [
        "#### Discussion of key points\n",
        "\n",
        "- How the visualization helped in understanding the data?\n",
        "- Looking at the mutual information plot, can you find features that seem to be uninfluential? (If so, remember to remove them before next steps!)\n"
      ]
    },
    {
      "cell_type": "markdown",
      "id": "fd4d8b48-3501-4ad0-a18d-7fa34d10eaf2",
      "metadata": {
        "id": "fd4d8b48-3501-4ad0-a18d-7fa34d10eaf2"
      },
      "source": [
        "*YOUR ANSWER HERE*"
      ]
    },
    {
      "cell_type": "markdown",
      "id": "7999b210-681d-4888-beb9-80a53dc2c623",
      "metadata": {
        "id": "7999b210-681d-4888-beb9-80a53dc2c623",
        "tags": []
      },
      "source": [
        "### **Implement and train a Linear Regressor** (2.5 points)\n",
        "\n",
        "You should complete the implementation of the `MyLinearRegressor` class and of the `MSE` metric started below. No machine learning libraries are allowed for this.\n",
        "\n",
        "The common regression metrics used to understand regression model's perfomance are the Mean Squared Error (MSE), Mean Absolute Error (MAE) and Coefficient of determination(R²). You can implement your own version of the last two metrics (MAE and R²) or use it from sklearn. Compare the three different metrics."
      ]
    },
    {
      "cell_type": "code",
      "execution_count": null,
      "id": "3b834347-3ae2-44ea-bf19-47f0fbac5599",
      "metadata": {
        "id": "3b834347-3ae2-44ea-bf19-47f0fbac5599"
      },
      "outputs": [],
      "source": [
        "# TODO: MSE. You cannot use machine learning libraries for this!!\n",
        "def MSE():\n",
        "  return None"
      ]
    },
    {
      "cell_type": "code",
      "execution_count": null,
      "id": "eec04ed6-f509-4022-8f76-f835ea27f0f4",
      "metadata": {
        "id": "eec04ed6-f509-4022-8f76-f835ea27f0f4",
        "tags": []
      },
      "outputs": [],
      "source": [
        "# TODO: Finish the implementation of MyLinearRegressor. You cannot use machine learning libraries for this!!\n",
        "class MyLinearRegressor():\n",
        "  def __init__(self, learning_rate=-1, max_iter=-1):\n",
        "    self.max_iter         = max_iter\n",
        "    self.learning_rate    = learning_rate\n",
        "    self.weights          = None\n",
        "    self.bias             = None\n",
        "\n",
        "  def predict(self, X):\n",
        "    return None\n",
        "\n",
        "  def fit(self, X, y):\n",
        "    return None"
      ]
    },
    {
      "cell_type": "markdown",
      "id": "3fc8a356-f1b8-4cd8-9897-4e4ff1e8dcbd",
      "metadata": {
        "id": "3fc8a356-f1b8-4cd8-9897-4e4ff1e8dcbd",
        "tags": []
      },
      "source": [
        "#### Discussion of key points\n",
        "\n",
        "- Looking at the different metrics proposed, what is the best one for this problem?\n",
        "- Your Linear Regressor was able to closely estimate the amount of miliseconds played? Justify using a machine learning metric.\n",
        "- What do you think is the biggest error type in your model: variance or bias?"
      ]
    },
    {
      "cell_type": "markdown",
      "id": "449f08c7-ed8f-4a6d-b555-1112583967ee",
      "metadata": {
        "id": "449f08c7-ed8f-4a6d-b555-1112583967ee"
      },
      "source": [
        "*YOUR ANSWER HERE*"
      ]
    },
    {
      "cell_type": "markdown",
      "id": "abf872f0-f428-461a-ab6f-69ca94aac7e3",
      "metadata": {
        "id": "abf872f0-f428-461a-ab6f-69ca94aac7e3",
        "jp-MarkdownHeadingCollapsed": true,
        "tags": []
      },
      "source": [
        "### **Compare with SGDRegressor** (0.5 point)\n",
        "\n",
        "After training your regressor, train a `SGDRegressor` from sklearn and compare both."
      ]
    },
    {
      "cell_type": "code",
      "execution_count": null,
      "id": "d0a6ca65-990b-4004-bfb9-c92bbfe2b25d",
      "metadata": {
        "id": "d0a6ca65-990b-4004-bfb9-c92bbfe2b25d",
        "tags": []
      },
      "outputs": [],
      "source": [
        "# TODO: Traing the SGDRegressor. You should use sklearn libraries.\n",
        "from sklearn.linear_model import SGDRegressor"
      ]
    },
    {
      "cell_type": "code",
      "execution_count": null,
      "id": "19a5b75f-0d69-41cc-b4d4-e5ff9a4a1e92",
      "metadata": {
        "id": "19a5b75f-0d69-41cc-b4d4-e5ff9a4a1e92"
      },
      "outputs": [],
      "source": []
    },
    {
      "cell_type": "markdown",
      "id": "863f60eb-16cf-49f6-9255-84e7be7835eb",
      "metadata": {
        "id": "863f60eb-16cf-49f6-9255-84e7be7835eb",
        "jp-MarkdownHeadingCollapsed": true,
        "tags": []
      },
      "source": [
        "### **EXTRA: Find interaction terms** (0.5 point)\n",
        "\n",
        "In the \"An Introduction to Statistical Learning\" book, in chapter 3, the authors explain how different terms can interact with each other, and this interaction can have a bigger correlation with the target.\n",
        "\n",
        "In this extra task, search for relation of columns that can enhance the results of the model.<br/>\n",
        "The interaction could be to sum, subtract, multiply or divide two columns by each other. Choose some relations to test between some of the columns. <br/>\n",
        "To do this, you can use the `mutual_information` technique to test wheter the new columns have bigger Mutual Information.\n",
        "\n",
        "You should train your own model **not** the Sklearn one.\n",
        "\n"
      ]
    },
    {
      "cell_type": "code",
      "execution_count": null,
      "id": "40b68252-96ed-4662-8f2d-6344595758e7",
      "metadata": {
        "id": "40b68252-96ed-4662-8f2d-6344595758e7",
        "tags": []
      },
      "outputs": [],
      "source": [
        "# Reload the dataset"
      ]
    },
    {
      "cell_type": "code",
      "execution_count": null,
      "id": "14f6651b-77d2-44c4-9efa-703c42ede7d5",
      "metadata": {
        "id": "14f6651b-77d2-44c4-9efa-703c42ede7d5"
      },
      "outputs": [],
      "source": [
        "# Transform features"
      ]
    },
    {
      "cell_type": "code",
      "execution_count": null,
      "id": "cb6882cb-e7ce-426b-867e-ac584d7d0025",
      "metadata": {
        "id": "cb6882cb-e7ce-426b-867e-ac584d7d0025"
      },
      "outputs": [],
      "source": [
        "# Check mutual information"
      ]
    },
    {
      "cell_type": "code",
      "execution_count": null,
      "id": "6e45361c-4eed-48d4-94e4-ba1adae50255",
      "metadata": {
        "id": "6e45361c-4eed-48d4-94e4-ba1adae50255",
        "tags": []
      },
      "outputs": [],
      "source": [
        "# Re-train and test the model"
      ]
    },
    {
      "cell_type": "markdown",
      "id": "c0290410-e974-4e79-aef6-237ccc63edb8",
      "metadata": {
        "id": "c0290410-e974-4e79-aef6-237ccc63edb8",
        "tags": []
      },
      "source": [
        "## **K-Nearest Neighbors (KNN) Classifier**\n",
        "\n",
        "In this section you must load and explore the dataset, and train a K-Nearest Neighbors (KNN) classifier. You can (and should) use the Sklearn library to it.\n",
        "\n",
        "Remember to avoid using data that you should not have in training when performing the data analysis."
      ]
    },
    {
      "cell_type": "markdown",
      "id": "f41c7fba-a504-4ad8-b91d-1c0cac9f8350",
      "metadata": {
        "id": "f41c7fba-a504-4ad8-b91d-1c0cac9f8350"
      },
      "source": [
        "#### **Dataset: Kickstarter Projects**\n",
        "\n",
        "I'm a crowdfunding enthusiast and i'm watching kickstarter since its early days. Right now I just collect data and the only app i've made is this twitter bot which tweet any project reaching some milestone: @bloomwatcher . I have a lot of other ideas, but sadly not enough time to develop them… But I hope you can!\n",
        "\n",
        "\n",
        "https://www.kaggle.com/datasets/kemical/kickstarter-projects\n",
        "\n",
        "\n",
        "| Variable Name | Data Type | Description | Example Value |\n",
        "|---|---|---|---|\n",
        "| `ID` | Integer | Unique identifier for the project | `1000002330` |\n",
        "| `name` | String | Name of the project | `\"The Songs of Adelaide & Abullah\"` |\n",
        "| `category` | String | Category of the project (e.g., \"Publishing\", \"Film & Video\", \"Music\") | `\"Publishing\"` |\n",
        "| `main_category` | String | Main category of the project (e.g., \"Art\", \"Technology\", \"Games\") | `\"Art\"` |\n",
        "| `currency` | String | Currency used for the funding goal | `\"GBP\"` |\n",
        "| `deadline` | Date | Date the project funding period ended | `\"2015-10-09\"` |\n",
        "| `goal` | Float | Funding goal in the project's currency | `1000.0` |\n",
        "| `launched` | Date | Date the project was launched | `\"2015-08-11 12:12:28\"` |\n",
        "| `pledged` | Float | Total amount pledged in the project's currency | `0.0` |\n",
        "| `state` | String | State of the project (e.g., \"failed\", \"successful\", \"canceled\") | `\"failed\"` |\n",
        "| `backers` | Integer | Number of backers who pledged to the project | `0` |\n",
        "| `country` | String | Country where the project is based | `\"GB\"` |\n",
        "| `usd pledged` | Float | Total amount pledged in US dollars (converted) | `0.0` |\n",
        "| `usd_pledged_real` | Float | Total amount pledged in US dollars (converted using a different API) | `0.0` |\n",
        "| `usd_goal_real` | Float | Funding goal in US dollars (converted using a different API) | `1533.95` |"
      ]
    },
    {
      "cell_type": "markdown",
      "id": "56ffca26-ce8f-4ce2-9d10-3999f17e9e87",
      "metadata": {
        "id": "56ffca26-ce8f-4ce2-9d10-3999f17e9e87"
      },
      "source": [
        "**How to load the dataset**\n",
        "\n",
        "As you already copied the folder in the first part of this task, you can just directly load the dataset.\n",
        "\n",
        "*If you want to run the notebook locally, change the path below to the location of the folder in your local environment.*"
      ]
    },
    {
      "cell_type": "code",
      "execution_count": null,
      "id": "df9fe771-d723-4f91-8bd5-f1464b68d74f",
      "metadata": {
        "id": "df9fe771-d723-4f91-8bd5-f1464b68d74f"
      },
      "outputs": [],
      "source": [
        "# link with google drive, remove comments if need to restart from this step.\n",
        "import pandas as pd\n",
        "# from google.colab import drive\n",
        "# drive.mount('/content/gdrive', force_remount=True)\n",
        "\n",
        "# load dataset from google drive\n",
        "path = # Change this to be the correct path if you added the dataset in a different location\n",
        "\n",
        "df = pd.read_csv(path)"
      ]
    },
    {
      "cell_type": "markdown",
      "id": "4d807e6f-737f-4ad9-bd47-8eb47974b10f",
      "metadata": {
        "id": "4d807e6f-737f-4ad9-bd47-8eb47974b10f",
        "tags": []
      },
      "source": [
        "### **Data analysis and preprocessing** (1.5 point)\n",
        "\n",
        "In this section, you should explore the dataset.\n",
        "This should be done as in the Linear Regressor section, paying attention to mutual information (now using [`mutual_info_classif`](https://scikit-learn.org/stable/modules/generated/sklearn.feature_selection.mutual_info_classif.html)) and categorical features.\n",
        "\n",
        "Check for missing values before changing the dataset and explore how to deal with them (removing? filling with mean/median/random? Etc).\n",
        "\n",
        "Remember that machine learning models are highly affected by the scale of the input features.\n"
      ]
    },
    {
      "cell_type": "code",
      "execution_count": null,
      "id": "59278593-737e-4f8a-850c-bd207bf410e5",
      "metadata": {
        "id": "59278593-737e-4f8a-850c-bd207bf410e5"
      },
      "outputs": [],
      "source": []
    },
    {
      "cell_type": "code",
      "execution_count": null,
      "id": "a801c63a-072f-45e1-9e39-a291cde64b3f",
      "metadata": {
        "id": "a801c63a-072f-45e1-9e39-a291cde64b3f"
      },
      "outputs": [],
      "source": []
    },
    {
      "cell_type": "code",
      "execution_count": null,
      "id": "b7ec7ac7-df68-427b-bdd2-543c43e38507",
      "metadata": {
        "id": "b7ec7ac7-df68-427b-bdd2-543c43e38507"
      },
      "outputs": [],
      "source": []
    },
    {
      "cell_type": "markdown",
      "id": "7b0fb178-fdc7-4141-9a65-28f26d6d9265",
      "metadata": {
        "id": "7b0fb178-fdc7-4141-9a65-28f26d6d9265",
        "tags": []
      },
      "source": [
        "#### Discussion of key points\n",
        "\n",
        "- There were missing values in the dataset? How did you dealt with each one?\n",
        "-~Changing the missing values impacted in the mutual information of features with the target?~ => DO NOT ANSWER, there is no way to calculate Mutual Informations with missing values."
      ]
    },
    {
      "cell_type": "markdown",
      "id": "174f4763-dabf-4205-a96e-bc11391b315e",
      "metadata": {
        "id": "174f4763-dabf-4205-a96e-bc11391b315e"
      },
      "source": [
        "*YOUR ANSWER HERE*"
      ]
    },
    {
      "cell_type": "markdown",
      "id": "65df4b94-4b0f-472d-a52c-d9e561515a64",
      "metadata": {
        "id": "65df4b94-4b0f-472d-a52c-d9e561515a64",
        "tags": []
      },
      "source": [
        "### **Train a K-Nearest Neighbors Classifier** (2.5 points)\n",
        "\n",
        "\n",
        "You should use the Sklearn `KNeighborsClassifier` function to fit the data.\n",
        "\n",
        "You can use different metrics such as accuracy and f1-score from Sklearn (or create your own implementation) to understand the model's performance.\n",
        "\n",
        "Also, plot a confusion matrix to analyze the results.\n",
        "A Confusion matrix is a matrix were the columns represent the true label, and rows represent the predicted label. As this is a binary classification task, the matrix should have 2x2. You can study more about it [here](https://en.wikipedia.org/wiki/Confusion_matrix). You can use sklearn functions that help in building and displaying it."
      ]
    },
    {
      "cell_type": "code",
      "execution_count": null,
      "id": "285a2bbc-fea4-4435-ac45-567105475654",
      "metadata": {
        "id": "285a2bbc-fea4-4435-ac45-567105475654"
      },
      "outputs": [],
      "source": []
    },
    {
      "cell_type": "code",
      "execution_count": null,
      "id": "2c716cc0-c2f9-4e17-a002-00dee9bff87f",
      "metadata": {
        "id": "2c716cc0-c2f9-4e17-a002-00dee9bff87f"
      },
      "outputs": [],
      "source": []
    },
    {
      "cell_type": "code",
      "execution_count": null,
      "id": "606616aa-6c69-4455-933c-19450a9b99f5",
      "metadata": {
        "id": "606616aa-6c69-4455-933c-19450a9b99f5"
      },
      "outputs": [],
      "source": []
    },
    {
      "cell_type": "markdown",
      "id": "82880abb-d63b-4037-acfb-708d065b28f7",
      "metadata": {
        "id": "82880abb-d63b-4037-acfb-708d065b28f7",
        "tags": []
      },
      "source": [
        "#### Discussion of key points\n",
        "\n",
        "- Is accuracy a good metric for this problem? Justify.\n",
        "- What conclusions can you have when looking your results in the confusion matrix?\n",
        "- What was the best K for this problem? How the selection o K impacts the Bias-variance tradeoff?"
      ]
    },
    {
      "cell_type": "markdown",
      "id": "53e52e95-cb79-4160-aadf-4a78f956bd30",
      "metadata": {
        "id": "53e52e95-cb79-4160-aadf-4a78f956bd30"
      },
      "source": [
        "*YOUR ANSWER HERE*"
      ]
    },
    {
      "cell_type": "markdown",
      "id": "12b5be98-bdea-4616-b3c7-70334c00e97c",
      "metadata": {
        "id": "12b5be98-bdea-4616-b3c7-70334c00e97c",
        "tags": []
      },
      "source": [
        "## **Multiclass classification** (1 point)\n",
        "\n",
        "In this last section you should adapt the \"**Spotify Song Attributes**\" dataset target, creating an arbitrary number N of classes, where 2 < N < 11.\n",
        "\n",
        "Classes should represent equally spaced intervals in the continuous target of rate of played time w.r.t. the time of the song.<br/>\n",
        "For example, if N == 3, we should have 3 classes. Given that $\\hat{x}$ is the maximum rate in train dataset, samples with y <= $\\hat{x}/3$ should be of class 0, samples y > $\\hat{x}/3$ but y <= $2*\\hat{x}/3$ should be of class 1, and samples where y > $2*\\hat{x}/3$ should be of class 2.\n",
        "\n",
        "You can use the Sklearn KNN classifier for this task, as well as any sklearn helper functions. Remember to carefully perform the needed preprocess steps discussed in other sections (if necessary).\n",
        "\n",
        "Plot a confusion matrix with the results."
      ]
    },
    {
      "cell_type": "code",
      "execution_count": null,
      "id": "2e4d35af-74cd-43b7-96dd-b994e8c1eaf1",
      "metadata": {
        "id": "2e4d35af-74cd-43b7-96dd-b994e8c1eaf1"
      },
      "outputs": [],
      "source": []
    },
    {
      "cell_type": "code",
      "execution_count": null,
      "id": "53ac2389-f3e5-4f52-98c7-c46b8d23f71f",
      "metadata": {
        "id": "53ac2389-f3e5-4f52-98c7-c46b8d23f71f"
      },
      "outputs": [],
      "source": []
    },
    {
      "cell_type": "code",
      "execution_count": null,
      "id": "d1787778-1a56-4088-b7fa-b6f5e74d6499",
      "metadata": {
        "id": "d1787778-1a56-4088-b7fa-b6f5e74d6499"
      },
      "outputs": [],
      "source": []
    },
    {
      "cell_type": "markdown",
      "id": "36b8f61e-ac9e-47b7-aec9-51071ca43649",
      "metadata": {
        "id": "36b8f61e-ac9e-47b7-aec9-51071ca43649",
        "tags": []
      },
      "source": [
        "#### Discussion of key points\n",
        "\n",
        "- Is accuracy a good metric for this problem? Justify.\n",
        "- What conclusions can you have when looking your results in the confusion matrix?\n",
        "- There is value in solve a regression problem as a multiclass classification problem?"
      ]
    },
    {
      "cell_type": "markdown",
      "id": "de381280-3269-4e78-9a75-6da1678517e0",
      "metadata": {
        "id": "de381280-3269-4e78-9a75-6da1678517e0"
      },
      "source": [
        "*YOUR ANSWER HERE*"
      ]
    }
  ],
  "metadata": {
    "colab": {
      "collapsed_sections": [
        "872cd8ac-0084-46bb-aad1-053fcb8f3d7a"
      ],
      "provenance": []
    },
    "kernelspec": {
      "display_name": "Python 3 (ipykernel)",
      "language": "python",
      "name": "python3"
    },
    "language_info": {
      "codemirror_mode": {
        "name": "ipython",
        "version": 3
      },
      "file_extension": ".py",
      "mimetype": "text/x-python",
      "name": "python",
      "nbconvert_exporter": "python",
      "pygments_lexer": "ipython3",
      "version": "3.10.10"
    }
  },
  "nbformat": 4,
  "nbformat_minor": 5
}
